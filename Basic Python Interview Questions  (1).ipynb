{
 "cells": [
  {
   "cell_type": "markdown",
   "id": "fac46ea3",
   "metadata": {},
   "source": [
    "## Basic Of Python "
   ]
  },
  {
   "cell_type": "markdown",
   "id": "64a28b81",
   "metadata": {},
   "source": [
    "### Identifiers: "
   ]
  },
  {
   "cell_type": "markdown",
   "id": "352eee92",
   "metadata": {},
   "source": [
    "####     1. What is an identifier in Python?\n",
    "    \n",
    "    In Python, an identifier is a name used to identify variables, functions, classes, modules, or other entities in the code. It is a user-defined name that follows certain rules and conventions. Here are some key points about identifiers in Python:\n",
    "\n",
    "- An identifier can be composed of letters (both lowercase and uppercase), digits, and underscores (_).\n",
    "- The first character of an identifier must be a letter or an underscore. It cannot start with a digit.\n",
    "- Identifiers are case-sensitive, meaning `myVariable` and `myvariable` are considered different identifiers.\n",
    "- Python keywords, such as `if`, `else`, `for`, `while`, etc., cannot be used as identifiers.\n",
    "- It is recommended to use descriptive and meaningful names for identifiers to improve code readability.\n",
    "- Identifiers should not be the same as built-in functions, modules, or libraries to avoid conflicts.\n",
    "- Examples of valid identifiers: `myVariable`, `count`, `_name`, `MAX_SIZE`.\n",
    "- Examples of invalid identifiers: `3abc`, `my-variable`, `if`, `for`.\n",
    "\n",
    "Identifiers play a crucial role in Python as they provide a way to reference and work with different elements of the code. They help in making the code more understandable and maintainable by using meaningful names that convey the purpose of the entities they represent."
   ]
  },
  {
   "cell_type": "markdown",
   "id": "6258855a",
   "metadata": {},
   "source": [
    "----------------------------------------------"
   ]
  },
  {
   "cell_type": "markdown",
   "id": "85112360",
   "metadata": {},
   "source": [
    "#### <h4>2. Can an identifier start with a digit?\n",
    "\n",
    "No, an identifier in Python cannot start with a digit. The first character of an identifier must be a letter (either lowercase or uppercase) or an underscore (_). It cannot begin with a number. However, subsequent characters in the identifier can be letters, digits, or underscores. \n",
    "\n",
    "For example, `myVariable` and `_count` are valid identifiers, but `3abc` and `7days` are not. Identifiers starting with a digit are considered invalid in Python."
   ]
  },
  {
   "cell_type": "markdown",
   "id": "6195719a",
   "metadata": {},
   "source": [
    "--------------------------------------------------------------------------"
   ]
  },
  {
   "cell_type": "markdown",
   "id": "f513528d",
   "metadata": {},
   "source": [
    "#### 3. What are the rules for naming an identifier in Python?\n",
    "\n",
    "Sure! Here are the rules for naming identifiers in Python using simple and general words:\n",
    "\n",
    "1. An identifier can consist of letters (both lowercase and uppercase), digits, and underscores (_).\n",
    "2. The first character of an identifier must be a letter (a-z or A-Z) or an underscore (_).\n",
    "3. Identifiers are case-sensitive, so `myVariable` and `myvariable` would be considered different identifiers.\n",
    "4. Python keywords, such as `if`, `else`, `for`, `while`, etc., cannot be used as identifiers.\n",
    "5. Identifiers should not start with a digit.\n",
    "6. There is no length limit for identifiers in Python, but it is advisable to keep them concise and meaningful.\n",
    "7. It is recommended to use descriptive names that convey the purpose of the identifier.\n",
    "8. Avoid using special characters, spaces, or punctuation marks in identifiers.\n",
    "9. Identifiers cannot contain spaces within them, but underscores can be used to separate words (e.g., `my_variable`).\n",
    "10. It is good practice to follow a consistent naming convention, such as using lowercase letters with underscores (snake_case) for variables and functions, and capitalizing the first letter of each word (CamelCase) for classes.\n",
    "\n",
    "Following these rules when naming identifiers will help in writing clean, readable, and maintainable Python code.\n",
    "\n",
    "\n",
    "\n"
   ]
  },
  {
   "cell_type": "markdown",
   "id": "41b8700b",
   "metadata": {},
   "source": [
    "_____________________________________________________________________________"
   ]
  },
  {
   "cell_type": "markdown",
   "id": "1c885f98",
   "metadata": {},
   "source": [
    "#### 4. Give an example of a valid identifier.\n",
    "\n",
    "\n",
    "Example : \n",
    "\n",
    "Sure! Here's an example that demonstrates the rules for naming identifiers in Python:\n",
    "\n",
    "Valid identifiers:\n",
    "- `myVariable`\n",
    "- `count`\n",
    "- `_name`\n",
    "- `MAX_SIZE`\n",
    "- `hello_world`\n",
    "- `total123`\n",
    "\n",
    "Invalid identifiers:\n",
    "- `3abc` (starts with a digit)\n",
    "- `my-variable` (contains a hyphen)\n",
    "- `if` (a reserved keyword)\n",
    "- `for` (a reserved keyword)\n",
    "- `my variable` (contains a space)\n",
    "- `@symbol` (contains a special character)\n",
    "\n",
    "In Python, the valid identifiers follow the rules mentioned earlier, while the invalid identifiers violate one or more of those rules."
   ]
  },
  {
   "cell_type": "markdown",
   "id": "f0eaa39f",
   "metadata": {},
   "source": [
    " --------------------------------------------------------------"
   ]
  },
  {
   "cell_type": "markdown",
   "id": "cd6a0620",
   "metadata": {},
   "source": [
    "#### 5. Can keywords be used as identifiers?\n",
    "\n",
    "No, keywords in Python cannot be used as identifiers. Keywords are reserved words that have predefined meanings and functionalities in the Python language. They serve specific purposes and are used to define syntax and structure in Python code. Since they have a predefined meaning, they cannot be used as variable names, function names, or any other identifiers.\n",
    "\n",
    "Here are a few examples of keywords in Python:\n",
    "\n",
    "- `if`\n",
    "- `else`\n",
    "- `for`\n",
    "- `while`\n",
    "- `def`\n",
    "- `class`\n",
    "- `import`\n",
    "- `True`\n",
    "- `False`\n",
    "\n",
    "Attempting to use a keyword as an identifier will result in a syntax error. It is important to choose different names for identifiers to avoid conflicts with reserved keywords."
   ]
  },
  {
   "cell_type": "markdown",
   "id": "dd4f540a",
   "metadata": {},
   "source": [
    "------------------------------------------------------------------"
   ]
  },
  {
   "cell_type": "code",
   "execution_count": 1,
   "id": "d7525d54",
   "metadata": {},
   "outputs": [
    {
     "name": "stdout",
     "output_type": "stream",
     "text": [
      "['False', 'None', 'True', 'and', 'as', 'assert', 'async', 'await', 'break', 'class', 'continue', 'def', 'del', 'elif', 'else', 'except', 'finally', 'for', 'from', 'global', 'if', 'import', 'in', 'is', 'lambda', 'nonlocal', 'not', 'or', 'pass', 'raise', 'return', 'try', 'while', 'with', 'yield']\n"
     ]
    }
   ],
   "source": [
    "#run this code in your jupyter notebook or which is your using IDE\n",
    "import keyword\n",
    "keywords = keyword.kwlist\n",
    "print(keywords)"
   ]
  },
  {
   "cell_type": "markdown",
   "id": "babe65b6",
   "metadata": {},
   "source": [
    "-------------------------------------------------"
   ]
  },
  {
   "cell_type": "markdown",
   "id": "0a6b447f",
   "metadata": {},
   "source": [
    "### Comments:\n"
   ]
  },
  {
   "cell_type": "markdown",
   "id": "d132cde0",
   "metadata": {},
   "source": [
    "#### 6. What are comments in Python?\n",
    "\n",
    "\n",
    "In Python, comments are lines of code that are ignored by the interpreter and serve as notes or explanations within the code. They are used to add human-readable information that helps in understanding the code's logic, purpose, or any other relevant details.\n",
    "\n",
    "Comments are not executed or processed by the Python interpreter, making them useful for adding explanations, documenting code, or temporarily disabling specific code lines for testing purposes. They can be used to provide context, improve code readability, or leave reminders for yourself or other developers.\n",
    "\n",
    "In Python, comments are denoted by the `#` symbol. Anything following the `#` on the same line is considered a comment and is ignored by the interpreter. Here's an example:\n",
    "\n",
    "```python\n",
    "# This is a comment in Python\n",
    "\n",
    "# This line assigns the value 5 to the variable 'x'\n",
    "x = 5\n",
    "\n",
    "# The next line prints the value of 'x'\n",
    "print(x)\n",
    "```\n",
    "\n",
    "In this example, the comments provide additional information about the code and are ignored during execution. They help in understanding the purpose of the code and its individual components."
   ]
  },
  {
   "cell_type": "markdown",
   "id": "49896099",
   "metadata": {},
   "source": [
    "-------------------------------------------------------------------\n"
   ]
  },
  {
   "cell_type": "markdown",
   "id": "6d797b6d",
   "metadata": {},
   "source": [
    "#### 7. How do you write a single-line comment in Python?\n",
    "\n",
    "In Python, you can write a single-line comment using the `#` symbol. Anything following the `#` on the same line is considered a comment and is ignored by the interpreter. Here's an example:\n",
    "\n",
    "```python\n",
    "# This is a single-line comment in Python\n",
    "```\n",
    "\n",
    "In this example, the text \"This is a single-line comment in Python\" is treated as a comment and is not executed by the interpreter. Single-line comments are useful for adding brief explanations or notes to specific lines of code.\n",
    "\n",
    "You can also place a single-line comment at the end of a line of code to provide additional context or explanations. Here's an example:\n",
    "\n",
    "```python\n",
    "x = 5  # This line assigns the value 5 to the variable 'x'\n",
    "```\n",
    "\n",
    "In this case, the comment follows the code on the same line and provides information about the purpose of the line of code."
   ]
  },
  {
   "cell_type": "markdown",
   "id": "d864c9aa",
   "metadata": {},
   "source": [
    "--------------------------------------------------------------------"
   ]
  },
  {
   "cell_type": "markdown",
   "id": "bc4bbcc3",
   "metadata": {},
   "source": [
    "#### 8. How do you write a multi-line comment in Python?\n",
    "\n",
    "In Python, there is no specific syntax for creating multi-line comments like some other programming languages. However, you can achieve the same effect by using multiple single-line comments or by using a multi-line string as a comment.\n",
    "\n",
    "Here are two approaches for creating multi-line comments in Python:\n",
    "\n",
    "1. Using multiple single-line comments:\n",
    "   ```python\n",
    "   # This is a multi-line comment\n",
    "   # Line 1\n",
    "   # Line 2\n",
    "   # Line 3\n",
    "   ```\n",
    "\n",
    "   In this approach, you can simply write multiple single-line comments one after another to create a multi-line comment. Each line is treated as an individual comment and is ignored by the interpreter.\n",
    "\n",
    "2. Using a multi-line string:\n",
    "   ```python\n",
    "   \"\"\"\n",
    "   This is a multi-line comment\n",
    "   Line 1\n",
    "   Line 2\n",
    "   Line 3\n",
    "   \"\"\"\n",
    "   ```\n",
    "\n",
    "   In this approach, you enclose the comment text within triple quotes (`\"\"\"`). This creates a multi-line string, which can be used as a comment. Although the string itself is not assigned to a variable, it acts as a comment and is ignored by the interpreter.\n",
    "\n",
    "Both approaches allow you to create multi-line comments in Python, providing a way to add longer explanations, documentation, or notes within your code."
   ]
  },
  {
   "cell_type": "markdown",
   "id": "b9bf837d",
   "metadata": {},
   "source": [
    "------------------------------------------"
   ]
  },
  {
   "cell_type": "markdown",
   "id": "4f0da2bf",
   "metadata": {},
   "source": [
    "#### 9. Why are comments important in code?\n",
    "\n",
    "Comments are important in code for several reasons:\n",
    "\n",
    "1. **Code Documentation**: Comments serve as a form of documentation that explains the logic, purpose, or functionality of the code. They provide insights into how the code works and help other developers (including yourself) understand and navigate through the codebase.\n",
    "\n",
    "2. **Code Readability**: Well-placed comments enhance the readability of the code by making it easier to understand and follow. They act as signposts, highlighting important sections, explaining complex algorithms, or providing context for specific code blocks. This can greatly improve the comprehension of the code for both developers and maintainers.\n",
    "\n",
    "3. **Code Maintenance**: Comments help with code maintenance and future modifications. When returning to code after some time, comments can jog your memory about the intent behind certain decisions or implementation details. They make it easier to identify areas that need improvement or require updates.\n",
    "\n",
    "4. **Collaboration**: In collaborative coding environments, comments facilitate effective communication between team members. They allow developers to provide feedback, ask questions, or share suggestions directly within the code. Comments can also serve as a means of sharing knowledge and providing insights into intricate parts of the codebase.\n",
    "\n",
    "5. **Troubleshooting**: Comments can be useful during debugging and troubleshooting. By commenting out specific code sections or adding temporary comments, you can isolate problematic areas and experiment with different solutions without deleting the original code.\n",
    "\n",
    "6. **Learning and Teaching**: Comments can be educational for novice programmers learning to code. Well-explained comments can clarify concepts, introduce best practices, and serve as examples for understanding coding techniques or patterns.\n",
    "\n",
    "In summary, comments play a vital role in code development and maintenance. They contribute to code comprehension, collaboration, troubleshooting, and documentation, making the codebase more manageable, understandable, and maintainable."
   ]
  },
  {
   "cell_type": "markdown",
   "id": "2fd60e95",
   "metadata": {},
   "source": [
    "-----------------------------------------"
   ]
  },
  {
   "cell_type": "markdown",
   "id": "8ee19eec",
   "metadata": {},
   "source": [
    "### Indentation:\n"
   ]
  },
  {
   "cell_type": "markdown",
   "id": "bb25015e",
   "metadata": {},
   "source": [
    "#### 10. What is the purpose of indentation in Python?\n",
    "\n",
    "\n",
    "In Python, indentation is used to define the structure and hierarchy of code blocks. It serves as a way to group statements and indicate the scope of control structures (such as loops and conditional statements) and function definitions.\n",
    "\n",
    "The purpose of indentation is to visually represent the logical structure of the code. It helps Python determine which statements belong to which block of code. By using consistent indentation, you can make your code more readable and understandable.\n",
    "\n",
    "Here are a few key points about indentation in Python:\n",
    "\n",
    "- Indentation is typically done using spaces or tabs (but not both in the same file). Most commonly, four spaces are used for each level of indentation.\n",
    "- The level of indentation must be consistent within the same block of code. All statements within the same block should have the same amount of indentation.\n",
    "- Indentation is required after certain control structures (such as `if`, `for`, `while`, and function definitions) to indicate the block of code that belongs to that structure.\n",
    "- Incorrect indentation can result in syntax errors or cause the code to behave differently than intended.\n",
    "\n",
    "By using indentation effectively, you can make your Python code more organized, visually appealing, and easier to understand for both yourself and other developers who may read or maintain the code."
   ]
  },
  {
   "cell_type": "markdown",
   "id": "df755830",
   "metadata": {},
   "source": [
    "---------------------------------------"
   ]
  },
  {
   "cell_type": "markdown",
   "id": "89a2f677",
   "metadata": {},
   "source": [
    "#### 11. How many spaces are typically used for indentation in Python?\n",
    "\n",
    "In Python, the most common convention for indentation is to use four spaces for each level of indentation. It is considered the standard practice and is recommended by the official Python style guide, known as PEP 8.\n",
    "\n",
    "Using four spaces for indentation helps improve code readability and consistency. It provides a clear visual distinction between different levels of code blocks and makes it easier to understand the structure of the code.\n",
    "\n",
    "It's important to note that using spaces for indentation is preferred over tabs in Python. While tabs can be used, it's generally advised to configure your code editor to automatically convert tabs to spaces. This ensures consistency across different editors and platforms and avoids potential issues that can arise from mixing tabs and spaces within the same file.\n",
    "\n",
    "However, the specific number of spaces used for indentation can vary based on personal preferences or team conventions. Some developers may choose two spaces or eight spaces for indentation. Ultimately, the key is to maintain consistency in your codebase to enhance readability and maintainability."
   ]
  },
  {
   "cell_type": "markdown",
   "id": "419ddb3c",
   "metadata": {},
   "source": [
    "#### 12. What happens if you mix tabs and spaces for indentation?\n",
    "\n",
    "Mixing tabs and spaces for indentation in Python can lead to errors and unexpected behavior in your code. Python relies on consistent indentation to determine the structure and hierarchy of code blocks. When tabs and spaces are mixed, it can result in inconsistent indentation levels, causing the code to be misinterpreted by the Python interpreter.\n",
    "\n",
    "Here are a few scenarios that can occur when mixing tabs and spaces for indentation:\n",
    "\n",
    "1. **Indentation Errors**: The Python interpreter may raise indentation-related errors, such as \"IndentationError\" or \"TabError\". These errors indicate that the indentation is not consistent or the indentation characters (tabs and spaces) are not used correctly.\n",
    "\n",
    "2. **Inconsistent Block Identification**: Mixing tabs and spaces can cause code blocks to be misidentified, leading to incorrect scoping of statements. This can result in logical errors and unintended behavior in your code.\n",
    "\n",
    "3. **Different Interpretation by Different Editors**: Different code editors or environments can interpret tabs and spaces differently, leading to inconsistencies in how the code is displayed or understood. This can cause confusion and make it challenging for others to read and maintain your code.\n",
    "\n",
    "To avoid these issues, it is best to choose one approach and be consistent throughout your codebase. The recommended practice is to use spaces for indentation, typically four spaces per level, as it ensures consistent behavior across different editors and platforms. It's also advisable to configure your code editor to automatically convert tabs to spaces to maintain consistency and avoid mixing them accidentally."
   ]
  },
  {
   "cell_type": "markdown",
   "id": "58120566",
   "metadata": {},
   "source": [
    "#### 13. Can you use any indentation style you prefer in Python?\n",
    "\n",
    "Yes, Python allows some flexibility in choosing the indentation style for your code. However, it is important to note that maintaining consistent indentation is crucial for Python's syntax and code readability.\n",
    "\n",
    "While you have the freedom to choose your preferred indentation style, it is highly recommended to follow the conventions and guidelines outlined in the official Python style guide, known as PEP 8. It suggests using four spaces for each level of indentation.\n",
    "\n",
    "Following a consistent indentation style has several advantages:\n",
    "\n",
    "1. **Readability**: Consistent indentation makes your code more readable and understandable. It helps in visually representing the structure and hierarchy of code blocks, making it easier for you and others to follow the logic of the code.\n",
    "\n",
    "2. **Consistency**: Adhering to a widely accepted convention, such as four spaces for indentation, ensures consistency across different codebases and makes it easier for developers to collaborate and maintain the code.\n",
    "\n",
    "3. **Compatibility**: Many code editors and IDEs are designed to work seamlessly with four spaces for indentation. Using this convention ensures compatibility across different development environments and minimizes the chances of indentation-related issues.\n",
    "\n",
    "While you have the freedom to choose your indentation style, it is good practice to adhere to the conventions established in the Python community. Consistent and readable code is not only easier to maintain but also promotes code clarity and collaboration among developers."
   ]
  },
  {
   "cell_type": "markdown",
   "id": "53c6137e",
   "metadata": {},
   "source": [
    "-----------------------------------"
   ]
  },
  {
   "cell_type": "markdown",
   "id": "0e85f2a8",
   "metadata": {},
   "source": [
    "### Statements:\n"
   ]
  },
  {
   "cell_type": "markdown",
   "id": "0843090e",
   "metadata": {},
   "source": [
    "#### 14. What is a statement in Python?\n",
    "\n",
    "In Python, a statement is a unit of code that carries out an action or performs a specific task. It is a fundamental building block of a program and represents an instruction or command that the Python interpreter can execute.\n",
    "\n",
    "A statement can perform various operations, such as assigning values to variables, calling functions, looping over a set of values, making decisions with conditional statements, or printing output to the console.\n",
    "\n",
    "Here are some examples of common statements in Python:\n",
    "\n",
    "1. Assignment statement:\n",
    "   ```python\n",
    "   x = 5\n",
    "   ```\n",
    "\n",
    "2. Function call statement:\n",
    "   ```python\n",
    "   print(\"Hello, world!\")\n",
    "   ```\n",
    "\n",
    "3. Conditional statement:\n",
    "   ```python\n",
    "   if x > 10:\n",
    "       print(\"x is greater than 10\")\n",
    "   else:\n",
    "       print(\"x is less than or equal to 10\")\n",
    "   ```\n",
    "\n",
    "4. Loop statement:\n",
    "   ```python\n",
    "   for i in range(5):\n",
    "       print(i)\n",
    "   ```\n",
    "\n",
    "Statements are typically written one per line, and the Python interpreter executes them sequentially, following the order of appearance in the code. However, certain statements can control the flow of execution, such as loops and conditional statements, which can alter the order of execution based on certain conditions or iterations.\n",
    "\n",
    "Understanding statements is essential in programming as they allow you to express the desired actions and behavior of your program, enabling you to automate tasks and solve problems using Python."
   ]
  },
  {
   "cell_type": "markdown",
   "id": "0bd3dc1e",
   "metadata": {},
   "source": [
    "-------------------------------------------"
   ]
  },
  {
   "cell_type": "markdown",
   "id": "0a3f7c1e",
   "metadata": {},
   "source": [
    "#### 15. Give examples of different types of statements in Python.\n",
    "Certainly! Here are examples of different types of statements in Python:\n",
    "\n",
    "1. **Assignment Statement**:\n",
    "   ```python\n",
    "   x = 10\n",
    "   y = \"Hello\"\n",
    "   ```\n",
    "\n",
    "2. **Expression Statement**:\n",
    "   ```python\n",
    "   result = x + y\n",
    "   ```\n",
    "\n",
    "3. **Print Statement** (Python 2.x):\n",
    "   ```python\n",
    "   print(\"Hello, world!\")\n",
    "   ```\n",
    "\n",
    "4. **Print Function** (Python 3.x):\n",
    "   ```python\n",
    "   print(\"Hello, world!\")\n",
    "   ```\n",
    "\n",
    "5. **Conditional Statement** (if-else):\n",
    "   ```python\n",
    "   if x > 10:\n",
    "       print(\"x is greater than 10\")\n",
    "   else:\n",
    "       print(\"x is less than or equal to 10\")\n",
    "   ```\n",
    "\n",
    "6. **Loop Statement** (for loop):\n",
    "   ```python\n",
    "   for i in range(1, 6):\n",
    "       print(i)\n",
    "   ```\n",
    "\n",
    "7. **Loop Statement** (while loop):\n",
    "   ```python\n",
    "   while x < 100:\n",
    "       print(x)\n",
    "       x += 10\n",
    "   ```\n",
    "\n",
    "8. **Break Statement**:\n",
    "   ```python\n",
    "   for i in range(1, 10):\n",
    "       if i == 5:\n",
    "           break\n",
    "       print(i)\n",
    "   ```\n",
    "\n",
    "9. **Continue Statement**:\n",
    "   ```python\n",
    "   for i in range(1, 6):\n",
    "       if i == 3:\n",
    "           continue\n",
    "       print(i)\n",
    "   ```\n",
    "\n",
    "10. **Pass Statement**:\n",
    "    ```python\n",
    "    def my_function():\n",
    "        pass\n",
    "    ```\n",
    "\n",
    "These examples showcase various types of statements in Python, including assignment statements, expression statements, print statements, conditional statements, loop statements, and control flow statements like break, continue, and pass. Understanding and using these statements allow you to control the flow of execution and perform different actions within your Python programs."
   ]
  },
  {
   "cell_type": "markdown",
   "id": "a078fec3",
   "metadata": {},
   "source": [
    "------------------------"
   ]
  },
  {
   "cell_type": "markdown",
   "id": "b6342bb1",
   "metadata": {},
   "source": [
    "#### 16. What is the difference between an expression and a statement in Python?\n",
    "\n",
    "\n",
    "\n",
    "In Python, expressions and statements are distinct concepts, although they are closely related.\n",
    "\n",
    "**Expression**:\n",
    "An expression is a combination of values, variables, operators, and function calls that evaluates to a single value. It can be thought of as a fragment of code that produces a result. Expressions can be as simple as a single variable or literal value, or they can involve complex calculations and nested function calls.\n",
    "\n",
    "Examples of expressions:\n",
    "- `2 + 3` (evaluates to 5)\n",
    "- `x * y` (evaluates to the product of x and y)\n",
    "- `len(my_list)` (evaluates to the length of the list)\n",
    "\n",
    "Expressions can be used within statements, as part of larger expressions, or they can stand alone.\n",
    "\n",
    "**Statement**:\n",
    "A statement, on the other hand, is a unit of code that performs an action or task. It represents a complete instruction that the Python interpreter can execute. Statements typically contain expressions, but they also include control flow structures, assignments, and function calls.\n",
    "\n",
    "Examples of statements:\n",
    "- Assignment statement: `x = 5`\n",
    "- Conditional statement: `if x > 10:`\n",
    "- Loop statement: `for i in range(5):`\n",
    "- Function call statement: `print(\"Hello, world!\")`\n",
    "\n",
    "Statements are executed sequentially by the Python interpreter, and they can modify program state or control the flow of execution.\n",
    "\n",
    "In summary, an expression produces a value, whereas a statement performs an action. Expressions can be embedded within statements or used independently to calculate values. Understanding the distinction between expressions and statements is important for writing effective and meaningful Python code."
   ]
  },
  {
   "cell_type": "markdown",
   "id": "f384a6bf",
   "metadata": {},
   "source": [
    "-------------------------------------"
   ]
  },
  {
   "cell_type": "markdown",
   "id": "caa84290",
   "metadata": {},
   "source": [
    "### Variables:"
   ]
  },
  {
   "cell_type": "markdown",
   "id": "7aa60cd9",
   "metadata": {},
   "source": [
    "### 17. How do you declare a variable in Python?\n",
    "\n",
    "In Python, declaring a variable is a straightforward process. You can declare a variable by assigning a value to it using the assignment operator (=). Here's the general syntax:\n",
    "\n",
    "```python\n",
    "variable_name = value\n",
    "```\n",
    "\n",
    "Here's an example that demonstrates variable declaration:\n",
    "\n",
    "```python\n",
    "name = \"John\"\n",
    "age = 25\n",
    "```\n",
    "\n",
    "In the above example, two variables, `name` and `age`, are declared and assigned values. The variable `name` is assigned the string value \"John\", and the variable `age` is assigned the integer value 25.\n",
    "\n",
    "It's important to note that Python is a dynamically typed language, meaning you don't have to explicitly declare the type of a variable. The type of a variable is inferred from the assigned value. In the example above, the variable `name` is inferred as a string type, and the variable `age` is inferred as an integer type.\n",
    "\n",
    "You can also declare multiple variables in a single line by separating them with commas:\n",
    "\n",
    "```python\n",
    "x, y, z = 1, 2, 3\n",
    "```\n",
    "\n",
    "In this case, three variables, `x`, `y`, and `z`, are declared and assigned the respective values of 1, 2, and 3.\n",
    "\n",
    "Variable names in Python can consist of letters (both lowercase and uppercase), digits, and underscores. However, they cannot start with a digit. Additionally, Python is case-sensitive, so variables `name` and `Name` would be treated as different variables.\n",
    "\n",
    "Remember that declaring a variable is not the same as initializing it. Initializing a variable means assigning it an initial value, while declaring a variable simply creates it."
   ]
  },
  {
   "cell_type": "markdown",
   "id": "7ce95f88",
   "metadata": {},
   "source": [
    "----------------------------------------------"
   ]
  },
  {
   "cell_type": "markdown",
   "id": "4cd2457e",
   "metadata": {},
   "source": [
    "#### 18. What is the naming convention for variables in Python?\n",
    "In Python, declaring a variable is a straightforward process. You can declare a variable by assigning a value to it using the assignment operator (=). Here's the general syntax:\n",
    "\n",
    "```python\n",
    "variable_name = value\n",
    "```\n",
    "\n",
    "Here's an example that demonstrates variable declaration:\n",
    "\n",
    "```python\n",
    "name = \"John\"\n",
    "age = 25\n",
    "```\n",
    "\n",
    "In the above example, two variables, `name` and `age`, are declared and assigned values. The variable `name` is assigned the string value \"John\", and the variable `age` is assigned the integer value 25.\n",
    "\n",
    "It's important to note that Python is a dynamically typed language, meaning you don't have to explicitly declare the type of a variable. The type of a variable is inferred from the assigned value. In the example above, the variable `name` is inferred as a string type, and the variable `age` is inferred as an integer type.\n",
    "\n",
    "You can also declare multiple variables in a single line by separating them with commas:\n",
    "\n",
    "```python\n",
    "x, y, z = 1, 2, 3\n",
    "```\n",
    "\n",
    "In this case, three variables, `x`, `y`, and `z`, are declared and assigned the respective values of 1, 2, and 3.\n",
    "\n",
    "Variable names in Python can consist of letters (both lowercase and uppercase), digits, and underscores. However, they cannot start with a digit. Additionally, Python is case-sensitive, so variables `name` and `Name` would be treated as different variables.\n",
    "\n",
    "Remember that declaring a variable is not the same as initializing it. Initializing a variable means assigning it an initial value, while declaring a variable simply creates it."
   ]
  },
  {
   "cell_type": "markdown",
   "id": "004cffc2",
   "metadata": {},
   "source": [
    "---------------------------------------"
   ]
  },
  {
   "cell_type": "markdown",
   "id": "6300ab06",
   "metadata": {},
   "source": [
    "####  19. Can a variable name start with an underscore?\n",
    "\n",
    "Yes, in Python, a variable name can start with an underscore (_). It is valid to use an underscore as the first character of a variable name. However, there is a convention associated with using underscores at the beginning of a variable name.\n",
    "\n",
    "The convention is as follows:\n",
    "\n",
    "1. **Single Leading Underscore**: A variable name starting with a single leading underscore, such as `_variable`, is a convention used to indicate that the variable is intended for internal use within a class or module. It is a way of indicating that the variable is intended to be private or for internal implementation details. However, this convention does not enforce true encapsulation or privacy in Python.\n",
    "\n",
    "2. **Single Trailing Underscore**: A variable name ending with a single trailing underscore, such as `variable_`, is used to avoid naming conflicts with Python keywords or built-in functions. It ensures that the variable name does not clash with reserved names.\n",
    "\n",
    "3. **Double Leading Underscore**: A variable name starting with a double leading underscore, such as `__variable`, triggers name mangling in Python. It is used for creating class-private variables, which undergo name transformation to avoid accidental inheritance conflicts in subclasses.\n",
    "\n",
    "4. **Double Leading and Trailing Underscore**: A variable name that starts and ends with a double underscore, such as `__variable__`, is reserved for special methods or attributes in Python. These are often referred to as dunder (double underscore) methods or magic methods.\n",
    "\n",
    "While it is allowed to use underscores at the beginning of a variable name, it is important to follow the conventions and guidelines to ensure code readability and maintainability."
   ]
  },
  {
   "cell_type": "markdown",
   "id": "9dda0d3c",
   "metadata": {},
   "source": [
    "-----------------------------------------------------------"
   ]
  },
  {
   "cell_type": "markdown",
   "id": "c9975370",
   "metadata": {},
   "source": [
    "#### 20. How do you assign a value to a variable in Python?\n",
    "Assigning a value to a variable in Python is a straightforward process. You can assign a value to a variable using the assignment operator (=). Here's the general syntax:\n",
    "\n",
    "```python\n",
    "variable_name = value\n",
    "```\n",
    "\n",
    "Here's an example that demonstrates variable assignment:\n",
    "\n",
    "```python\n",
    "x = 5\n",
    "name = \"John\"\n",
    "```\n",
    "\n",
    "In the above example, the variable `x` is assigned the value 5, and the variable `name` is assigned the string value \"John\".\n",
    "\n",
    "You can assign different types of values to variables, such as numbers, strings, booleans, lists, or even objects. Python is a dynamically typed language, so you don't need to explicitly declare the type of the variable.\n",
    "\n",
    "You can also assign the value of one variable to another variable:\n",
    "\n",
    "```python\n",
    "x = 5\n",
    "y = x\n",
    "```\n",
    "\n",
    "In this case, the value of `x` (which is 5) is assigned to the variable `y`. Now, both `x` and `y` have the same value of 5.\n",
    "\n",
    "It's important to note that when you assign a value to a variable, it creates a reference to that value. If you assign the variable to a new value, it will no longer reference the previous value.\n",
    "\n",
    "```python\n",
    "x = 5\n",
    "y = x\n",
    "x = 10\n",
    "```\n",
    "\n",
    "In this example, `y` will still have the value 5 because it references the original value of `x`. Changing the value of `x` to 10 doesn't affect the value of `y`.\n",
    "\n",
    "Assigning values to variables allows you to store and manipulate data within your Python programs, enabling you to perform computations, make decisions, and create dynamic behavior in your code."
   ]
  },
  {
   "cell_type": "markdown",
   "id": "7de98981",
   "metadata": {},
   "source": [
    "\n",
    "------------------------------------"
   ]
  },
  {
   "cell_type": "markdown",
   "id": "0da36ded",
   "metadata": {},
   "source": [
    "### Data types:"
   ]
  },
  {
   "cell_type": "markdown",
   "id": "83030857",
   "metadata": {},
   "source": [
    "#### 21. What are the built-in data types in Python?\n",
    "\n",
    "Python provides several built-in data types that are used to represent different kinds of values. Here are the commonly used built-in data types in Python:\n",
    "\n",
    "1. **Numeric Types**: These data types represent numeric values.\n",
    "   - Integer (`int`): Represents whole numbers, e.g., 5, -10, 100.\n",
    "   - Float (`float`): Represents decimal or floating-point numbers, e.g., 3.14, -0.5, 2.0.\n",
    "\n",
    "2. **String**: Represents a sequence of characters.\n",
    "   - String (`str`): Represents text or a sequence of characters enclosed in single quotes (' ') or double quotes (\" \").\n",
    "\n",
    "3. **Boolean**: Represents either True or False.\n",
    "   - Boolean (`bool`): Represents the truth values True or False.\n",
    "\n",
    "4. **Sequence Types**: These data types represent ordered collections of items.\n",
    "   - List (`list`): Represents an ordered, mutable (changeable) collection of items, enclosed in square brackets [ ].\n",
    "   - Tuple (`tuple`): Represents an ordered, immutable (unchangeable) collection of items, enclosed in parentheses ( ).\n",
    "   - Range (`range`): Represents a sequence of numbers, often used for looping.\n",
    "\n",
    "5. **Mapping Type**: This data type represents a collection of key-value pairs.\n",
    "   - Dictionary (`dict`): Represents an unordered, mutable collection of key-value pairs, enclosed in curly braces { }.\n",
    "\n",
    "6. **Set Types**: These data types represent an unordered collection of unique items.\n",
    "   - Set (`set`): Represents an unordered collection of unique elements, enclosed in curly braces { }.\n",
    "   - FrozenSet (`frozenset`): Represents an immutable version of a set, enclosed in curly braces { }.\n",
    "\n",
    "7. **None**: Represents the absence of a value or a null value.\n",
    "   - None (`NoneType`): Represents the absence of a value.\n",
    "\n",
    "These built-in data types provide the foundation for storing, manipulating, and representing different kinds of data in Python. They serve different purposes and have their own set of methods and operations that can be performed on them. Understanding these data types is essential for effectively working with data in Python."
   ]
  },
  {
   "cell_type": "markdown",
   "id": "b3d5e1d8",
   "metadata": {},
   "source": [
    "---------------------------------------------"
   ]
  },
  {
   "cell_type": "markdown",
   "id": "7f9167be",
   "metadata": {},
   "source": [
    "#### 22. What is the difference between mutable and immutable data types?\n",
    "\n",
    "In Python, data types can be classified as either mutable or immutable based on whether their values can be changed after they are created.\n",
    "\n",
    "**Immutable Data Types**:\n",
    "Immutable data types are those whose values cannot be modified after they are created. Any operation that appears to modify an immutable object actually creates a new object with the modified value. Immutable objects are hashable, meaning they can be used as keys in a dictionary or elements in a set.\n",
    "\n",
    "Examples of immutable data types in Python include:\n",
    "- Integer (`int`)\n",
    "- Float (`float`)\n",
    "- String (`str`)\n",
    "- Tuple (`tuple`)\n",
    "- FrozenSet (`frozenset`)\n",
    "\n",
    "**Mutable Data Types**:\n",
    "Mutable data types, on the other hand, allow for in-place modifications. This means the values of mutable objects can be modified after they are created without creating a new object. The changes made to a mutable object are reflected in the same memory location.\n",
    "\n",
    "Examples of mutable data types in Python include:\n",
    "- List (`list`)\n",
    "- Dictionary (`dict`)\n",
    "- Set (`set`)\n",
    "\n",
    "Understanding the distinction between mutable and immutable data types is important because it affects how objects behave in terms of assignment, modification, and passing them as function arguments. Immutable objects are generally safer to use in scenarios where you want to ensure the integrity of the data, while mutable objects provide flexibility in terms of modifying and updating values in place."
   ]
  },
  {
   "cell_type": "markdown",
   "id": "26f19341",
   "metadata": {},
   "source": [
    "---------------------------------"
   ]
  },
  {
   "cell_type": "markdown",
   "id": "51a30f49",
   "metadata": {},
   "source": [
    "#### 23. Give examples of mutable and immutable data types in Python.\n",
    "Certainly! Here are examples of both mutable and immutable data types in Python:\n",
    "\n",
    "**Mutable Data Types:**\n",
    "1. List (`list`):\n",
    "```python\n",
    "fruits = ['apple', 'banana', 'orange']\n",
    "fruits.append('grape')\n",
    "print(fruits)  # Output: ['apple', 'banana', 'orange', 'grape']\n",
    "```\n",
    "In the example above, the list `fruits` can be modified by appending a new element to it using the `append()` method.\n",
    "\n",
    "2. Dictionary (`dict`):\n",
    "```python\n",
    "person = {'name': 'John', 'age': 25}\n",
    "person['age'] = 26\n",
    "print(person)  # Output: {'name': 'John', 'age': 26}\n",
    "```\n",
    "The dictionary `person` can be modified by updating the value associated with the 'age' key.\n",
    "\n",
    "3. Set (`set`):\n",
    "```python\n",
    "numbers = {1, 2, 3, 4}\n",
    "numbers.add(5)\n",
    "print(numbers)  # Output: {1, 2, 3, 4, 5}\n",
    "```\n",
    "The set `numbers` can be modified by adding a new element to it using the `add()` method.\n",
    "\n",
    "**Immutable Data Types:**\n",
    "1. Integer (`int`):\n",
    "```python\n",
    "x = 5\n",
    "# Attempting to modify x will result in a new object assignment\n",
    "x = 10\n",
    "print(x)  # Output: 10\n",
    "```\n",
    "The integer `x` is immutable, so its value cannot be modified in place. Assigning a new value to `x` creates a new object.\n",
    "\n",
    "2. String (`str`):\n",
    "```python\n",
    "name = \"Alice\"\n",
    "# Attempting to modify name will result in a new object assignment\n",
    "name = \"Bob\"\n",
    "print(name)  # Output: \"Bob\"\n",
    "```\n",
    "Similarly, the string `name` is immutable, and assigning a new value to it creates a new object.\n",
    "\n",
    "3. Tuple (`tuple`):\n",
    "```python\n",
    "coordinates = (3, 4)\n",
    "# Attempting to modify coordinates will result in a new object assignment\n",
    "coordinates = (5, 6)\n",
    "print(coordinates)  # Output: (5, 6)\n",
    "```\n",
    "Tuples are immutable, so their values cannot be changed in place. Assigning a new value to `coordinates` creates a new tuple object.\n",
    "\n",
    "Understanding the mutability or immutability of data types is crucial for understanding how they behave and how modifications can affect your code."
   ]
  },
  {
   "cell_type": "markdown",
   "id": "4afd4b03",
   "metadata": {},
   "source": [
    "---------------------------------"
   ]
  },
  {
   "cell_type": "markdown",
   "id": "d8c79c11",
   "metadata": {},
   "source": [
    "#### 24. How do you determine the data type of a variable in Python?\n",
    "In Python, you can determine the data type of a variable using the built-in `type()` function. The `type()` function returns the data type of the object or variable that you pass as its argument.\n",
    "\n",
    "Here's an example of how to use the `type()` function to determine the data type of a variable:\n",
    "\n",
    "```python\n",
    "x = 5\n",
    "print(type(x))  # Output: <class 'int'>\n",
    "```\n",
    "\n",
    "In the example above, the `type(x)` expression returns `<class 'int'>`, indicating that the data type of the variable `x` is an integer (`int`).\n",
    "\n",
    "You can use the `type()` function to determine the data type of variables of different types:\n",
    "\n",
    "```python\n",
    "name = \"John\"\n",
    "print(type(name))  # Output: <class 'str'>\n",
    "\n",
    "is_active = True\n",
    "print(type(is_active))  # Output: <class 'bool'>\n",
    "\n",
    "numbers = [1, 2, 3]\n",
    "print(type(numbers))  # Output: <class 'list'>\n",
    "```\n",
    "\n",
    "The `type()` function works with all built-in data types and can also be used to determine the type of objects and instances of custom classes.\n",
    "\n",
    "By using the `type()` function, you can dynamically determine the data type of variables during runtime, which can be useful for debugging, type checking, and conditional operations based on the data type."
   ]
  },
  {
   "cell_type": "markdown",
   "id": "22320d2e",
   "metadata": {},
   "source": [
    "---------------------------------"
   ]
  },
  {
   "cell_type": "markdown",
   "id": "8cb83f95",
   "metadata": {},
   "source": [
    "### Lists:\n"
   ]
  },
  {
   "cell_type": "markdown",
   "id": "4608a1eb",
   "metadata": {},
   "source": [
    "#### 25. What is a list in Python?\n",
    "\n",
    "\n",
    "A list in Python is a built-in data type that represents an ordered collection of elements. It is denoted by square brackets ([]). A list can contain elements of different data types, such as integers, strings, floats, or even other lists. Lists are mutable, which means their elements can be modified after they are created. Elements in a list are indexed starting from 0, allowing for easy access to individual elements by their position in the list.\n",
    "\n",
    "\n",
    "Certainly! Here's an example of a list in Python:\n",
    "\n",
    "```python\n",
    "fruits = [\"apple\", \"banana\", \"orange\", \"grape\"]\n",
    "print(fruits)  # Output: ['apple', 'banana', 'orange', 'grape']\n",
    "```\n",
    "\n",
    "In the example above, we have a list named `fruits` that contains four elements: \"apple\", \"banana\", \"orange\", and \"grape\". We use the `print()` function to display the contents of the `fruits` list, which outputs `['apple', 'banana', 'orange', 'grape']`."
   ]
  },
  {
   "cell_type": "markdown",
   "id": "40b9d880",
   "metadata": {},
   "source": [
    "-------------------"
   ]
  },
  {
   "cell_type": "markdown",
   "id": "413cfd15",
   "metadata": {},
   "source": [
    "#### 26. How do you create an empty list?\n",
    "To create an empty list in Python, you can use empty square brackets ([]). Here's an example:\n",
    "\n",
    "```python\n",
    "my_list = []\n",
    "print(my_list)  # Output: []\n",
    "```\n",
    "\n",
    "In the example above, we create an empty list named `my_list` by assigning it the value of empty square brackets. When we print `my_list`, it outputs `[]`, indicating an empty list with no elements."
   ]
  },
  {
   "cell_type": "markdown",
   "id": "2f1745f8",
   "metadata": {},
   "source": [
    "---------------------------------"
   ]
  },
  {
   "cell_type": "markdown",
   "id": "68562580",
   "metadata": {},
   "source": [
    "#### 27. How do you access elements in a list?\n",
    "\n",
    "\n",
    "To access elements in a list in Python, you can use indexing. Each element in the list is assigned a unique index starting from 0 for the first element. Here are a few ways to access elements in a list:\n",
    "\n",
    "1. Accessing a single element:\n",
    "```python\n",
    "fruits = [\"apple\", \"banana\", \"orange\", \"grape\"]\n",
    "print(fruits[0])  # Output: \"apple\"\n",
    "print(fruits[2])  # Output: \"orange\"\n",
    "```\n",
    "In the example above, we access the first element of the `fruits` list using `fruits[0]` and the third element using `fruits[2]`.\n",
    "\n",
    "2. Slicing a list:\n",
    "```python\n",
    "fruits = [\"apple\", \"banana\", \"orange\", \"grape\"]\n",
    "print(fruits[1:3])  # Output: [\"banana\", \"orange\"]\n",
    "```\n",
    "In the example above, we use slicing to access a portion of the `fruits` list. `fruits[1:3]` retrieves elements starting from index 1 up to, but not including, index 3.\n",
    "\n",
    "3. Negative indexing:\n",
    "```python\n",
    "fruits = [\"apple\", \"banana\", \"orange\", \"grape\"]\n",
    "print(fruits[-1])  # Output: \"grape\"\n",
    "print(fruits[-3])  # Output: \"banana\"\n",
    "```\n",
    "Negative indexing allows you to access elements from the end of the list. `-1` represents the last element, `-2` represents the second-to-last element, and so on.\n",
    "\n",
    "By using these indexing techniques, you can retrieve specific elements or a range of elements from a list. Remember that indexing starts from 0 and that trying to access an index beyond the list's length will result in an \"IndexError\" exception.\n",
    "\n",
    "\n"
   ]
  },
  {
   "cell_type": "markdown",
   "id": "be427608",
   "metadata": {},
   "source": [
    "----------------"
   ]
  },
  {
   "cell_type": "markdown",
   "id": "eae667b5",
   "metadata": {},
   "source": [
    "#### 28. How do you add elements to a list?\n",
    "To add elements to a list in Python, you can use various methods. Here are a few common ways to add elements to a list:\n",
    "\n",
    "1. Using the `append()` method:\n",
    "The `append()` method is used to add an element to the end of the list.\n",
    "```python\n",
    "fruits = [\"apple\", \"banana\", \"orange\"]\n",
    "fruits.append(\"grape\")\n",
    "print(fruits)  # Output: ['apple', 'banana', 'orange', 'grape']\n",
    "```\n",
    "In the example above, we use the `append()` method to add the element \"grape\" to the `fruits` list. The resulting list is `['apple', 'banana', 'orange', 'grape']`.\n",
    "\n",
    "2. Using the `insert()` method:\n",
    "The `insert()` method allows you to add an element at a specific position in the list.\n",
    "```python\n",
    "fruits = [\"apple\", \"banana\", \"orange\"]\n",
    "fruits.insert(1, \"mango\")\n",
    "print(fruits)  # Output: ['apple', 'mango', 'banana', 'orange']\n",
    "```\n",
    "In the example above, we use the `insert()` method to add the element \"mango\" at index 1 in the `fruits` list. The resulting list is `['apple', 'mango', 'banana', 'orange']`.\n",
    "\n",
    "3. Using the concatenation operator:\n",
    "You can also concatenate two lists using the concatenation operator (`+`) to add elements from one list to another.\n",
    "```python\n",
    "fruits = [\"apple\", \"banana\", \"orange\"]\n",
    "additional_fruits = [\"grape\", \"mango\"]\n",
    "fruits += additional_fruits\n",
    "print(fruits)  # Output: ['apple', 'banana', 'orange', 'grape', 'mango']\n",
    "```\n",
    "In the example above, we concatenate the `fruits` list with the `additional_fruits` list using the `+=` operator. The elements from `additional_fruits` are added to the end of the `fruits` list.\n",
    "\n",
    "These are just a few examples of adding elements to a list in Python. Depending on your requirements, you can choose the method that suits your needs best."
   ]
  },
  {
   "cell_type": "markdown",
   "id": "fadb9422",
   "metadata": {},
   "source": [
    "-----------------------------"
   ]
  },
  {
   "cell_type": "markdown",
   "id": "19d15dc8",
   "metadata": {},
   "source": [
    "#### 29. How do you remove elements from a list?\n",
    "To remove elements from a list in Python, you can use various methods. Here are a few common ways to remove elements from a list:\n",
    "\n",
    "1. Using the `remove()` method:\n",
    "The `remove()` method is used to remove the first occurrence of a specified element from the list.\n",
    "```python\n",
    "fruits = [\"apple\", \"banana\", \"orange\"]\n",
    "fruits.remove(\"banana\")\n",
    "print(fruits)  # Output: ['apple', 'orange']\n",
    "```\n",
    "In the example above, we use the `remove()` method to remove the element \"banana\" from the `fruits` list. The resulting list is `['apple', 'orange']`.\n",
    "\n",
    "2. Using the `pop()` method:\n",
    "The `pop()` method is used to remove an element at a specified index from the list. If no index is provided, it removes and returns the last element.\n",
    "```python\n",
    "fruits = [\"apple\", \"banana\", \"orange\"]\n",
    "removed_fruit = fruits.pop(1)\n",
    "print(fruits)  # Output: ['apple', 'orange']\n",
    "print(removed_fruit)  # Output: \"banana\"\n",
    "```\n",
    "In the example above, we use the `pop()` method with an index of 1 to remove the element \"banana\" from the `fruits` list. The resulting list is `['apple', 'orange']`, and the removed element is assigned to the variable `removed_fruit`.\n",
    "\n",
    "3. Using the `del` statement:\n",
    "The `del` statement can be used to remove an element or a slice of elements from the list using indexing.\n",
    "```python\n",
    "fruits = [\"apple\", \"banana\", \"orange\"]\n",
    "del fruits[0]\n",
    "print(fruits)  # Output: ['banana', 'orange']\n",
    "```\n",
    "In the example above, we use the `del` statement with an index of 0 to remove the first element \"apple\" from the `fruits` list. The resulting list is `['banana', 'orange']`.\n",
    "\n",
    "These are just a few examples of removing elements from a list in Python. Depending on your requirements, you can choose the method that suits your needs best."
   ]
  },
  {
   "cell_type": "markdown",
   "id": "8dfaddd2",
   "metadata": {},
   "source": [
    "--------------------------"
   ]
  },
  {
   "cell_type": "markdown",
   "id": "d92d6022",
   "metadata": {},
   "source": [
    "### Tuples:\n"
   ]
  },
  {
   "cell_type": "markdown",
   "id": "1565d6a4",
   "metadata": {},
   "source": [
    "#### 30. What is a tuple in Python?\n",
    "\n",
    "\n",
    "In Python, a tuple is an ordered collection of elements, similar to a list. However, tuples are immutable, meaning that once created, their elements cannot be modified. Tuples are represented by parentheses () or can be created without any delimiters by separating the elements with commas. \n",
    "\n",
    "Here's an example of a tuple in Python:\n",
    "\n",
    "```python\n",
    "my_tuple = (1, 2, 3, \"apple\", \"banana\")\n",
    "print(my_tuple)  # Output: (1, 2, 3, 'apple', 'banana')\n",
    "```\n",
    "\n",
    "In the example above, we have a tuple named `my_tuple` that contains elements of different types, including integers and strings. The tuple is enclosed in parentheses, and its elements are separated by commas. When we print `my_tuple`, it outputs `(1, 2, 3, 'apple', 'banana')`.\n",
    "\n",
    "Tuples are commonly used when you want to store a collection of values that should not be modified. They are useful in scenarios where you want to ensure the integrity and immutability of data."
   ]
  },
  {
   "cell_type": "markdown",
   "id": "06bde37b",
   "metadata": {},
   "source": [
    "--------------------------"
   ]
  },
  {
   "cell_type": "markdown",
   "id": "3dbd012a",
   "metadata": {},
   "source": [
    "#### 31. How is a tuple different from a list?\n",
    "\n",
    "\n",
    "Tuples and lists are both data structures in Python used to store collections of elements. However, there are several key differences between tuples and lists:\n",
    "\n",
    "1. Mutability: Tuples are immutable, meaning that once created, their elements cannot be modified. In contrast, lists are mutable, allowing you to modify, add, or remove elements.\n",
    "\n",
    "2. Syntax: Tuples are typically represented by parentheses (), although they can also be created without any delimiters by separating the elements with commas. Lists, on the other hand, are represented by square brackets [].\n",
    "\n",
    "3. Performance: Tuples are generally more memory-efficient and faster to access than lists. Since tuples are immutable, Python can optimize their storage and access. Lists, being mutable, require additional memory allocation and handling.\n",
    "\n",
    "4. Use cases: Tuples are often used to represent collections of related values that should not be changed, such as coordinates, database records, or function arguments. Lists are commonly used when you need a dynamic collection of elements that can be modified, appended, or extended.\n",
    "\n",
    "In summary, the main differences between tuples and lists lie in their mutability, syntax, performance characteristics, and typical use cases. Tuples are immutable, have a different syntax, offer better performance in certain scenarios, and are suitable for situations where immutability is desired. Lists are mutable, have their own syntax, offer flexibility for modifications, and are suitable for scenarios that require dynamic collections."
   ]
  },
  {
   "cell_type": "markdown",
   "id": "c8a6d1ed",
   "metadata": {},
   "source": [
    "---------------------"
   ]
  },
  {
   "cell_type": "markdown",
   "id": "a7a6fc1b",
   "metadata": {},
   "source": [
    "#### 32. Can you modify a tuple once it is created?\n",
    "\n",
    "No, you cannot modify a tuple once it is created. Tuples are immutable data structures in Python, meaning that their elements cannot be modified, added, or removed after they are assigned. Once a tuple is created, it retains its original values and structure throughout its lifetime.\n",
    "\n",
    "Attempting to modify a tuple will result in a `TypeError` being raised. For example:\n",
    "\n",
    "```python\n",
    "my_tuple = (1, 2, 3)\n",
    "my_tuple[0] = 4  # Raises TypeError: 'tuple' object does not support item assignment\n",
    "```\n",
    "\n",
    "In the example above, we try to modify the first element of the `my_tuple` tuple by assigning a new value. However, it raises a `TypeError` since tuples are immutable.\n",
    "\n",
    "If you need a data structure that allows modifications, such as adding, removing, or modifying elements, you should use a list instead of a tuple. Lists are mutable and provide the flexibility to modify their elements as needed."
   ]
  },
  {
   "cell_type": "markdown",
   "id": "c8af2aac",
   "metadata": {},
   "source": [
    "------------------------------------------------"
   ]
  },
  {
   "cell_type": "markdown",
   "id": "d9bf54aa",
   "metadata": {},
   "source": [
    "#### 33. How do you access elements in a tuple?\n",
    "\n",
    "To access elements in a tuple, you can use indexing or slicing. Here are the two common ways to access elements in a tuple:\n",
    "\n",
    "1. Indexing:\n",
    "You can access individual elements in a tuple by specifying their index, which starts from 0 for the first element. Use square brackets [] and provide the index of the element you want to access.\n",
    "```python\n",
    "my_tuple = (1, 2, 3, \"apple\", \"banana\")\n",
    "print(my_tuple[0])  # Output: 1\n",
    "print(my_tuple[3])  # Output: \"apple\"\n",
    "```\n",
    "In the example above, we access the first element of `my_tuple` using index 0 and print its value. Similarly, we access the fourth element using index 3 and print its value.\n",
    "\n",
    "2. Slicing:\n",
    "You can also retrieve a subset of elements from a tuple using slicing. Slicing allows you to specify a range of indices to extract a portion of the tuple.\n",
    "```python\n",
    "my_tuple = (1, 2, 3, \"apple\", \"banana\")\n",
    "print(my_tuple[1:4])  # Output: (2, 3, \"apple\")\n",
    "```\n",
    "In the example above, we use slicing to retrieve elements from index 1 to index 3 (exclusive), which results in a new tuple containing elements (2, 3, \"apple\").\n",
    "\n",
    "These are the basic ways to access elements in a tuple using indexing and slicing. Remember that tuples are immutable, so you can only retrieve and read their elements; you cannot modify them once the tuple is created."
   ]
  },
  {
   "cell_type": "markdown",
   "id": "08fd24d5",
   "metadata": {},
   "source": [
    "----------------------------\n"
   ]
  },
  {
   "cell_type": "markdown",
   "id": "ef5de0f8",
   "metadata": {},
   "source": [
    "### Dictionaries:"
   ]
  },
  {
   "cell_type": "markdown",
   "id": "7b66ae9b",
   "metadata": {},
   "source": [
    "#### 34. What is a dictionary in Python?\n",
    "\n",
    "In Python, a dictionary is a built-in data structure that represents an unordered collection of key-value pairs. It is also known as an associative array or a hash map in other programming languages. Dictionaries are designed for efficient retrieval of values based on their corresponding keys.\n",
    "\n",
    "The key-value pairs in a dictionary are enclosed in curly braces `{}` and separated by commas. Each key is unique within the dictionary and is used to access its associated value. The keys can be of immutable data types such as strings, numbers, or tuples, while the values can be of any data type, including mutable objects like lists or dictionaries.\n",
    "\n",
    "Dictionaries provide a way to store and organize data based on meaningful relationships between keys and values. They are commonly used to represent real-world entities or concepts where quick lookup or retrieval of information is required. Some examples of dictionary usage include storing user information, mapping words to their definitions, or representing database records.\n",
    "\n",
    "Here's a simple example of a dictionary in Python:\n",
    "\n",
    "```python\n",
    "my_dict = {\"name\": \"John\", \"age\": 25, \"city\": \"New York\"}\n",
    "```\n",
    "\n",
    "In the example above, `my_dict` is a dictionary that stores information about a person. The keys are `\"name\"`, `\"age\"`, and `\"city\"`, and their corresponding values are `\"John\"`, `25`, and `\"New York\"`, respectively."
   ]
  },
  {
   "cell_type": "markdown",
   "id": "2da3b86f",
   "metadata": {},
   "source": [
    "----------------------------------"
   ]
  },
  {
   "cell_type": "markdown",
   "id": "0a547ba5",
   "metadata": {},
   "source": [
    "#### 35. How do you create an empty dictionary?\n",
    "To create an empty dictionary in Python, you can use either curly braces `{}` or the `dict()` constructor without any arguments. Here are examples of both methods:\n",
    "\n",
    "```python\n",
    "# Method 1: Using curly braces\n",
    "my_dict = {}\n",
    "print(my_dict)  # Output: {}\n",
    "\n",
    "# Method 2: Using dict() constructor\n",
    "my_dict = dict()\n",
    "print(my_dict)  # Output: {}\n",
    "```\n",
    "\n",
    "Both methods will create an empty dictionary with no key-value pairs.\n"
   ]
  },
  {
   "cell_type": "markdown",
   "id": "4a4f372a",
   "metadata": {},
   "source": [
    "----------------------------------------"
   ]
  },
  {
   "cell_type": "markdown",
   "id": "0802908b",
   "metadata": {},
   "source": [
    "#### 36. How do you access values in a dictionary?\n",
    "To access the values in a dictionary, you can use the keys as the index inside square brackets `[]`. Here's an example:\n",
    "\n",
    "```python\n",
    "my_dict = {\"name\": \"John\", \"age\": 25, \"city\": \"New York\"}\n",
    "print(my_dict[\"name\"])  # Output: John\n",
    "print(my_dict[\"age\"])  # Output: 25\n",
    "print(my_dict[\"city\"])  # Output: New York\n",
    "```\n",
    "\n",
    "In the example above, we access the values in the `my_dict` dictionary by specifying the corresponding keys inside square brackets.\n"
   ]
  },
  {
   "cell_type": "markdown",
   "id": "0ff67ce1",
   "metadata": {},
   "source": [
    "-------------------------------------------------------"
   ]
  },
  {
   "cell_type": "markdown",
   "id": "717e0c18",
   "metadata": {},
   "source": [
    "#### 37. How do you add or modify key-value pairs in a dictionary?\n",
    "To add or modify key-value pairs in a dictionary, you can use assignment (`=`) to assign a value to a specific key. If the key already exists, its value will be updated; otherwise, a new key-value pair will be added. Here's an example:\n",
    "\n",
    "```python\n",
    "my_dict = {\"name\": \"John\", \"age\": 25}\n",
    "my_dict[\"city\"] = \"New York\"  # Add a new key-value pair\n",
    "my_dict[\"age\"] = 26  # Modify the value of an existing key\n",
    "print(my_dict)  # Output: {\"name\": \"John\", \"age\": 26, \"city\": \"New York\"}\n",
    "```\n",
    "\n",
    "In the example above, we add a new key `\"city\"` with the value `\"New York\"` to the `my_dict` dictionary. We also modify the value of the existing key `\"age\"` from 25 to 26 using assignment.\n",
    "\n"
   ]
  },
  {
   "cell_type": "markdown",
   "id": "6d9599cf",
   "metadata": {},
   "source": [
    "-------------------------------------------"
   ]
  },
  {
   "cell_type": "markdown",
   "id": "c97f1a1e",
   "metadata": {},
   "source": [
    "#### 38. How do you remove key-value pairs from a dictionary?\n",
    "To remove key-value pairs from a dictionary, you can use the `del` keyword followed by the key you want to delete. Here's an example:\n",
    "\n",
    "```python\n",
    "my_dict = {\"name\": \"John\", \"age\": 25, \"city\": \"New York\"}\n",
    "del my_dict[\"age\"]  # Remove the key-value pair with key \"age\"\n",
    "print(my_dict)  # Output: {\"name\": \"John\", \"city\": \"New York\"}\n",
    "```\n",
    "\n",
    "In the example above, we remove the key-value pair with the key `\"age\"` from the `my_dict` dictionary using the `del` keyword. After deletion, the dictionary will only contain the remaining key-value pairs."
   ]
  },
  {
   "cell_type": "markdown",
   "id": "5bea99bd",
   "metadata": {},
   "source": [
    "----------------------------------------------"
   ]
  },
  {
   "cell_type": "markdown",
   "id": "2a51a2d5",
   "metadata": {},
   "source": [
    "#### 39. What is a set in Python?\n",
    "In Python, a set is an unordered collection of unique elements. It is a built-in data type that is used to store a collection of distinct values. Sets are mutable, meaning you can modify them by adding or removing elements, but they do not allow duplicate values. Sets are useful when you want to store a collection of items without any specific order or when you want to perform mathematical operations such as union, intersection, and difference on multiple sets.\n",
    "\n"
   ]
  },
  {
   "cell_type": "markdown",
   "id": "f0f15b9a",
   "metadata": {},
   "source": [
    "----------------------------------------"
   ]
  },
  {
   "cell_type": "markdown",
   "id": "a627fcbc",
   "metadata": {},
   "source": [
    "#### 40. How do you create an empty set?\n",
    "You can create an empty set in Python by using either the `set()` constructor or using curly braces `{}`. Here are examples of both methods:\n",
    "\n",
    "```python\n",
    "# Method 1: Using set() constructor\n",
    "my_set = set()\n",
    "print(my_set)  # Output: set()\n",
    "\n",
    "# Method 2: Using curly braces\n",
    "my_set = {}\n",
    "print(my_set)  # Output: {}\n",
    "```\n",
    "\n",
    "Note that using curly braces `{}` will actually create an empty dictionary, not an empty set. To create an empty set using curly braces, you need to use the `set()` constructor.\n",
    "\n"
   ]
  },
  {
   "cell_type": "markdown",
   "id": "95dc6056",
   "metadata": {},
   "source": [
    "#### 41. What is the difference between a set and a list?\n",
    "In Python, the main differences between a set and a list are:\n",
    "\n",
    "- Order: Sets are unordered collections, meaning they do not maintain any specific order of elements. Lists, on the other hand, are ordered collections where elements are stored and accessed based on their index.\n",
    "\n",
    "- Duplicate values: Sets do not allow duplicate values. If you try to add the same value multiple times to a set, it will only store one instance of that value. Lists can contain duplicate values, and you can add the same value multiple times.\n",
    "\n",
    "- Mutability: Sets are mutable, meaning you can add or remove elements from them. Lists are also mutable, allowing you to modify, add, or remove elements.\n",
    "\n",
    "- Membership and uniqueness: Sets are useful for membership testing and checking uniqueness of elements. You can quickly check if an element exists in a set, and sets ensure that each element is unique. Lists, on the other hand, are designed for ordered sequences of elements and allow duplicate values.\n",
    "\n"
   ]
  },
  {
   "cell_type": "markdown",
   "id": "c95c1601",
   "metadata": {},
   "source": [
    "------------------------------------------"
   ]
  },
  {
   "cell_type": "markdown",
   "id": "2218065c",
   "metadata": {},
   "source": [
    "#### 42. How do you add elements to a set?\n",
    "To add elements to a set in Python, you can use the `add()` method or the `update()` method. Here are examples of both methods:\n",
    "\n",
    "```python\n",
    "my_set = {1, 2, 3}  # Existing set\n",
    "\n",
    "# Using add() method to add a single element\n",
    "my_set.add(4)\n",
    "print(my_set)  # Output: {1, 2, 3, 4}\n",
    "\n",
    "# Using update() method to add multiple elements\n",
    "my_set.update([5, 6, 7])\n",
    "print(my_set)  # Output: {1, 2, 3, 4, 5, 6, 7}\n",
    "```\n",
    "\n",
    "In the example above, we have an existing set `my_set` containing elements 1, 2, and 3. We use the `add()` method to add a single element 4 to the set. We then use the `update()` method to add multiple elements 5, 6, and 7 to the set.\n",
    "\n"
   ]
  },
  {
   "cell_type": "markdown",
   "id": "40fd187b",
   "metadata": {},
   "source": [
    "---------------------------------------------------------------"
   ]
  },
  {
   "cell_type": "markdown",
   "id": "16c06e93",
   "metadata": {},
   "source": [
    "#### 43. How do you remove elements from a set?\n",
    "To remove elements from a set in Python, you can use the `remove()`, `discard()`, or `pop()` methods. Here are examples of each method:\n",
    "\n",
    "```python\n",
    "my_set = {1, 2, 3, 4, 5}  # Existing set\n",
    "\n",
    "# Using remove() method to remove a specific element\n",
    "my_set.remove(3)\n",
    "print(my_set)  # Output: {1, 2, 4, 5}\n",
    "\n"
   ]
  },
  {
   "cell_type": "markdown",
   "id": "55952c91",
   "metadata": {},
   "source": [
    "---------------------------------------------------------------"
   ]
  },
  {
   "cell_type": "markdown",
   "id": "4940b61a",
   "metadata": {},
   "source": [
    "#### 44. What is the difference between a function and a method in Python?\n",
    "In Python, a function is a block of reusable code that performs a specific task. It is a self-contained entity that can be called and executed independently. Functions can be defined at the top level of a module or inside a class. They are designed to encapsulate a set of instructions and can accept arguments and return values.\n",
    "\n",
    "On the other hand, a method is a function that is associated with an object or a class. It is defined within the scope of a class and is accessed through an instance of that class or the class itself. Methods are used to perform operations on objects and can access and modify their internal attributes. They have an implicit first parameter called `self` (by convention) that refers to the instance of the class.\n",
    "\n",
    "In summary, the main difference between a function and a method is their association with objects or classes. Functions are independent entities, while methods are functions that are bound to objects or classes and operate on their attributes.\n",
    "\n"
   ]
  },
  {
   "cell_type": "markdown",
   "id": "8ba1fefd",
   "metadata": {},
   "source": [
    "-------------------------------------------------"
   ]
  },
  {
   "cell_type": "markdown",
   "id": "a7f38819",
   "metadata": {},
   "source": [
    "#### 45. How do you define a function in Python?\n",
    "In Python, you can define a function using the `def` keyword followed by the function name, parentheses `()`, and a colon `:`. You can also specify parameters within the parentheses if the function accepts any. The function body is indented under the `def` statement and contains the code that defines the functionality of the function. Here's an example of a simple function definition:\n",
    "\n",
    "```python\n",
    "def greet(name):\n",
    "    print(\"Hello, \" + name + \"!\")\n",
    "\n",
    "# Calling the function\n",
    "greet(\"John\")\n",
    "```\n",
    "\n",
    "In the example above, we define a function called `greet()` that takes a `name` parameter. Inside the function body, we print a greeting message using the provided name. Finally, we call the function passing the argument `\"John\"`, resulting in the output \"Hello, John!\".\n",
    " `"
   ]
  },
  {
   "cell_type": "markdown",
   "id": "c0f6d0fe",
   "metadata": {},
   "source": [
    "-----------------------------------------------------"
   ]
  },
  {
   "cell_type": "markdown",
   "id": "e1392d9f",
   "metadata": {},
   "source": [
    "#### 46. What is the return statement used for in a function?\n",
    "The `return` statement is used in a function to specify the value(s) that the function should return when it is called. It allows the function to pass back a result or data to the caller. When the `return` statement is encountered in a function, it immediately exits the function and returns the specified value(s).\n",
    "\n",
    "Here's an example of a function that calculates the square of a number and returns the result:\n",
    "\n",
    "```python\n",
    "def square(num):\n",
    "    return num ** 2\n",
    "\n",
    "result = square(5)\n",
    "print(result)  # Output: 25\n",
    "```\n",
    "\n",
    "In the example above, the `square()` function accepts a `num` parameter, calculates the square of the number using the `**` operator, and returns the result using the `return` statement. We assign the returned value to the `result` variable and then print it.\n",
    "\n"
   ]
  },
  {
   "cell_type": "markdown",
   "id": "ab1fd000",
   "metadata": {},
   "source": [
    "-------------------------------------------------------"
   ]
  },
  {
   "cell_type": "markdown",
   "id": "1d8760b4",
   "metadata": {},
   "source": [
    "#### 47. What is the purpose of the `if` statement in Python?\n",
    "The `if` statement in Python is used for conditional execution of code. It allows you to specify a condition that is evaluated, and if the condition is true, the code block indented under the `if` statement is executed. If the condition is false, the code block is skipped.\n",
    "\n",
    "Here's an example of using the `if` statement:\n",
    "\n",
    "```python\n",
    "age = 25\n",
    "\n",
    "if age >= 18:\n",
    "    print(\"You are an adult.\")\n",
    "else:\n",
    "    print(\"You are not an adult.\")\n",
    "```\n",
    "\n",
    "In the example above, we check if the `age` variable is greater than or equal to 18 using the `>=` comparison operator. If the condition is true, the message \"You are an adult.\" is printed. Otherwise, the message \"You are not an adult.\" is printed.\n",
    "\n",
    "The `if` statement can also be combined with other conditional statements such as"
   ]
  },
  {
   "cell_type": "markdown",
   "id": "46bf68f2",
   "metadata": {},
   "source": [
    "------------------------------------"
   ]
  },
  {
   "cell_type": "markdown",
   "id": "52ae514f",
   "metadata": {},
   "source": [
    "#### 48. How do you use a loop to iterate over elements in a list?\n",
    "In Python, you can use a `for` loop to iterate over elements in a list. The `for` loop iterates over each item in the list and executes a block of code for each item. Here's an example:\n",
    "\n",
    "```python\n",
    "fruits = [\"apple\", \"banana\", \"orange\"]\n",
    "\n",
    "for fruit in fruits:\n",
    "    print(fruit)\n",
    "\n",
    "# Output:\n",
    "# apple\n",
    "# banana\n",
    "# orange\n",
    "```\n",
    "\n",
    "In the example above, we have a list called `fruits` containing three elements. The `for` loop iterates over each element in the list, and the variable `fruit` takes the value of each element in each iteration. The indented block of code under the `for` loop is executed for each item, and we print the value of `fruit`.\n",
    "\n"
   ]
  },
  {
   "cell_type": "markdown",
   "id": "6ab4ef33",
   "metadata": {},
   "source": [
    "-----------------------------------------------------"
   ]
  },
  {
   "cell_type": "markdown",
   "id": "6210fde4",
   "metadata": {},
   "source": [
    "#### 49. What is the difference between a `for` loop and a `while` loop in Python?\n",
    "In Python, a `for` loop is used to iterate over a sequence of elements such as a list, string, or tuple. It is typically used when you know the number of iterations in advance. The `for` loop automatically takes care of iterating over each element in the sequence until there are no more elements left.\n",
    "\n",
    "On the other hand, a `while` loop is used when you want to repeat a block of code as long as a certain condition is true. It is often used when you don't know the exact number of iterations in advance and want to continue executing the loop until a specific condition is met. The `while` loop checks the condition before each iteration and exits the loop when the condition becomes false.\n",
    "\n",
    "Here's an example to illustrate the difference:\n",
    "\n",
    "```python\n",
    "# Using for loop\n",
    "fruits = [\"apple\", \"banana\", \"orange\"]\n",
    "\n",
    "for fruit in fruits:\n",
    "    print(fruit)\n",
    "\n",
    "# Using while loop\n",
    "fruits = [\"apple\", \"banana\", \"orange\"]\n",
    "i = 0\n",
    "\n",
    "while i < len(fruits):\n",
    "    print(fruits[i])\n",
    "    i += 1\n",
    "```\n",
    "\n",
    "In the example above, both the `for` loop and the `while` loop iterate over the same list of fruits. The `for` loop automatically iterates over each element in the list, while the `while` loop uses a counter `i` to access each element using indexing and increment the counter until the condition `i < len(fruits)` becomes false.\n"
   ]
  },
  {
   "cell_type": "markdown",
   "id": "1fa1e641",
   "metadata": {},
   "source": [
    "-----------------------------------------------"
   ]
  },
  {
   "cell_type": "markdown",
   "id": "6e82e697",
   "metadata": {},
   "source": [
    "#### 50. How do you import a module in Python?\n",
    "In Python, you can import modules to access predefined functions, classes, or variables that are defined in separate Python files. The `import` statement is used to import a module. Here are a few examples:\n",
    "\n",
    "```python\n",
    "# Importing an entire module\n",
    "import math\n",
    "result = math.sqrt(25)\n",
    "print(result)  # Output: 5.0\n",
    "\n",
    "# Importing a specific function from a module\n",
    "from math import sqrt\n",
    "result = sqrt(25)\n",
    "print(result)  # Output: 5.0\n",
    "\n",
    "# Importing a module with an alias\n",
    "import numpy as np\n",
    "arr = np.array([1, 2, 3])\n",
    "print(arr)  # Output: [1, 2, 3]\n",
    "```\n",
    "\n",
    "In the first example, we import the entire `math` module using the `import` statement. We can then use the module name followed by a dot to access its functions or attributes. In this case, we use `math.sqrt()` to calculate the square root of 25.\n",
    "\n",
    "In the second example, we import only the `sqrt` function from the `math` module. This allows us to directly use the function without referencing the module name.\n",
    "\n",
    "In the third example, we import the `numpy` module"
   ]
  },
  {
   "cell_type": "code",
   "execution_count": null,
   "id": "b4bd45e9",
   "metadata": {},
   "outputs": [],
   "source": []
  },
  {
   "cell_type": "markdown",
   "id": "c70bb98e",
   "metadata": {},
   "source": [
    "##### Follow Me on \n",
    "linkdine : https://www.linkedin.com/in/vishal-wagaraj-14a90617b/    \n",
    "          \n",
    "Github: https://github.com/Vishal422\n",
    "                     \n",
    "medium: https://medium.com/@visurendrawagaraj\n",
    "           \n",
    "        \n",
    "----------------------  Do Share As much you want, Thank You ------------------------------------- "
   ]
  },
  {
   "cell_type": "code",
   "execution_count": null,
   "id": "fab594e5",
   "metadata": {},
   "outputs": [],
   "source": []
  }
 ],
 "metadata": {
  "kernelspec": {
   "display_name": "Python 3 (ipykernel)",
   "language": "python",
   "name": "python3"
  },
  "language_info": {
   "codemirror_mode": {
    "name": "ipython",
    "version": 3
   },
   "file_extension": ".py",
   "mimetype": "text/x-python",
   "name": "python",
   "nbconvert_exporter": "python",
   "pygments_lexer": "ipython3",
   "version": "3.10.9"
  }
 },
 "nbformat": 4,
 "nbformat_minor": 5
}
